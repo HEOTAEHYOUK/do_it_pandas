


import pandas 


df = pandas.read_csv('../data/gapminder.tsv', sep = '\t')



