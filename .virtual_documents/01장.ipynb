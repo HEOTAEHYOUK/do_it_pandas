print('hi') 


print('') 


!pip list
# 주피터 노트북에서 셀 명령어를 사용할수 있도록 함


% pip list 
# line 매직 명령어
# %% 셀 매직 명령어 



