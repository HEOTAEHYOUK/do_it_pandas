{
  "nbformat": 4,
  "nbformat_minor": 0,
  "metadata": {
    "colab": {
      "provenance": [],
      "mount_file_id": "1I2BO5qpdgmq4aS0axXtyq2cichZ_LNeV",
      "authorship_tag": "ABX9TyOOqD3kIjZUplnA+OBCBYv+",
      "include_colab_link": true
    },
    "kernelspec": {
      "name": "python3",
      "display_name": "Python 3"
    },
    "language_info": {
      "name": "python"
    }
  },
  "cells": [
    {
      "cell_type": "markdown",
      "metadata": {
        "id": "view-in-github",
        "colab_type": "text"
      },
      "source": [
        "<a href=\"https://colab.research.google.com/github/HEOTAEHYOUK/do_it_pandas/blob/main/%EC%BD%94%EB%9E%A9%ED%85%8C%EC%8A%A4%ED%8A%B8.ipynb\" target=\"_parent\"><img src=\"https://colab.research.google.com/assets/colab-badge.svg\" alt=\"Open In Colab\"/></a>"
      ]
    },
    {
      "cell_type": "code",
      "execution_count": 3,
      "metadata": {
        "id": "_IqrtGEFJ-k1",
        "colab": {
          "base_uri": "https://localhost:8080/"
        },
        "outputId": "115a8968-b739-4bbe-adf8-0a790d9e3e13"
      },
      "outputs": [
        {
          "output_type": "stream",
          "name": "stdout",
          "text": [
            "hi\n"
          ]
        }
      ],
      "source": [
        "print('hi')"
      ]
    },
    {
      "cell_type": "code",
      "source": [
        "%%time\n",
        "\n",
        "import torch\n",
        "from torch import optim\n",
        "import torch.nn as nn\n",
        "import torch.nn.functional as F\n",
        "from torchvision.datasets import CIFAR10\n",
        "import torchvision.transforms as transforms\n",
        "from torch.utils.data import DataLoader"
      ],
      "metadata": {
        "colab": {
          "base_uri": "https://localhost:8080/"
        },
        "id": "uSEx1LsWN2C8",
        "outputId": "660c3ee5-0ae5-4cb2-cd5c-4463fbf772f8"
      },
      "execution_count": 4,
      "outputs": [
        {
          "output_type": "stream",
          "name": "stdout",
          "text": [
            "CPU times: user 7.46 s, sys: 1.3 s, total: 8.76 s\n",
            "Wall time: 13.7 s\n"
          ]
        }
      ]
    },
    {
      "cell_type": "code",
      "source": [
        "%%time\n",
        "\n",
        "device =  torch.device('cuda:0' if torch.cuda.is_available() else 'cpu')\n",
        "print(device)\n",
        "\n",
        "cifar10_train = CIFAR10('./data',train=True,download=True,transform=transforms.ToTensor())\n",
        "cifar10_test = CIFAR10('./data',train=False,download=True,transform=transforms.ToTensor())\n",
        "\n",
        "batch_size = 64\n",
        "train_loader = DataLoader(cifar10_train,batch_size=batch_size,shuffle=True)\n",
        "test_loader = DataLoader(cifar10_test,batch_size=len(cifar10_test),shuffle=False)\n",
        "\n",
        "class Net(nn.Module):\n",
        "    def __init__(self):\n",
        "        super(Net,self).__init__()\n",
        "        self.conv1 = nn.Conv2d(3,6,5)\n",
        "        self.pool = nn.MaxPool2d(2,2)\n",
        "        self.conv2 = nn.Conv2d(6,16,5)\n",
        "        self.fc1 = nn.Linear(16*5*5,256)\n",
        "        self.fc2 = nn.Linear(256,10)\n",
        "\n",
        "        def forward (self,x):\n",
        "            x = self.pool(F.relu(self.conv1(x)))\n",
        "            x = self.pool(F.relu(self.conv2(x)))\n",
        "            x = x.view(-1,16*5*5)\n",
        "            x = F.relu(self.fc1(x))\n",
        "            x = self.fc2(x)\n",
        "            return x\n",
        "\n",
        "net = Net().to(device)\n",
        "loss_func = nn.CrossEntropyLoss()\n",
        "optimizer = optim.Adam(net.parameters())\n",
        "\n",
        "recode_loss_train=[]\n",
        "recode_loss_test=[]\n",
        "\n",
        "x_test,y_test = next(iter(test_loader))\n",
        "x_test,y_test = x_test.to(device),y_test.to(device)\n",
        "\n",
        "for i in range(10):\n",
        "  net.train()\n",
        "  loss_train = 0.0\n",
        "  for j,(x_train,y_train) in enumerate(train_loader):\n",
        "    x_train,y_train = x_train.to(device),y_train.to(device)\n",
        "    y = net(x_train)\n",
        "    loss = loss_func(y,y_train)\n",
        "    loss_train += loss.item()\n",
        "    optimizer.zero_grad()\n",
        "    loss.backward()\n",
        "    optimizer.step()\n",
        "  loss_train /= (j+1)\n",
        "  recode_loss_train.append(loss_train/len(train_loader))\n",
        "\n",
        "\n",
        "  net.eval()\n",
        "  y_test_pred = net(x_test)\n",
        "  loss_test = loss_func(y_test_pred,y_test)\n",
        "  recode_loss_test.append(loss_test.item())\n",
        "\n"
      ],
      "metadata": {
        "colab": {
          "base_uri": "https://localhost:8080/",
          "height": 435
        },
        "id": "wySGMQSoRz3F",
        "outputId": "cb1f37f6-025b-4591-a49e-885001e25b27"
      },
      "execution_count": 7,
      "outputs": [
        {
          "output_type": "stream",
          "name": "stdout",
          "text": [
            "cpu\n"
          ]
        },
        {
          "output_type": "error",
          "ename": "NotImplementedError",
          "evalue": "Module [Net] is missing the required \"forward\" function",
          "traceback": [
            "\u001b[0;31m---------------------------------------------------------------------------\u001b[0m",
            "\u001b[0;31mNotImplementedError\u001b[0m                       Traceback (most recent call last)",
            "\u001b[0;32m<timed exec>\u001b[0m in \u001b[0;36m<module>\u001b[0;34m\u001b[0m\n",
            "\u001b[0;32m/usr/local/lib/python3.11/dist-packages/torch/nn/modules/module.py\u001b[0m in \u001b[0;36m_wrapped_call_impl\u001b[0;34m(self, *args, **kwargs)\u001b[0m\n\u001b[1;32m   1737\u001b[0m             \u001b[0;32mreturn\u001b[0m \u001b[0mself\u001b[0m\u001b[0;34m.\u001b[0m\u001b[0m_compiled_call_impl\u001b[0m\u001b[0;34m(\u001b[0m\u001b[0;34m*\u001b[0m\u001b[0margs\u001b[0m\u001b[0;34m,\u001b[0m \u001b[0;34m**\u001b[0m\u001b[0mkwargs\u001b[0m\u001b[0;34m)\u001b[0m  \u001b[0;31m# type: ignore[misc]\u001b[0m\u001b[0;34m\u001b[0m\u001b[0;34m\u001b[0m\u001b[0m\n\u001b[1;32m   1738\u001b[0m         \u001b[0;32melse\u001b[0m\u001b[0;34m:\u001b[0m\u001b[0;34m\u001b[0m\u001b[0;34m\u001b[0m\u001b[0m\n\u001b[0;32m-> 1739\u001b[0;31m             \u001b[0;32mreturn\u001b[0m \u001b[0mself\u001b[0m\u001b[0;34m.\u001b[0m\u001b[0m_call_impl\u001b[0m\u001b[0;34m(\u001b[0m\u001b[0;34m*\u001b[0m\u001b[0margs\u001b[0m\u001b[0;34m,\u001b[0m \u001b[0;34m**\u001b[0m\u001b[0mkwargs\u001b[0m\u001b[0;34m)\u001b[0m\u001b[0;34m\u001b[0m\u001b[0;34m\u001b[0m\u001b[0m\n\u001b[0m\u001b[1;32m   1740\u001b[0m \u001b[0;34m\u001b[0m\u001b[0m\n\u001b[1;32m   1741\u001b[0m     \u001b[0;31m# torchrec tests the code consistency with the following code\u001b[0m\u001b[0;34m\u001b[0m\u001b[0;34m\u001b[0m\u001b[0m\n",
            "\u001b[0;32m/usr/local/lib/python3.11/dist-packages/torch/nn/modules/module.py\u001b[0m in \u001b[0;36m_call_impl\u001b[0;34m(self, *args, **kwargs)\u001b[0m\n\u001b[1;32m   1748\u001b[0m                 \u001b[0;32mor\u001b[0m \u001b[0m_global_backward_pre_hooks\u001b[0m \u001b[0;32mor\u001b[0m \u001b[0m_global_backward_hooks\u001b[0m\u001b[0;34m\u001b[0m\u001b[0;34m\u001b[0m\u001b[0m\n\u001b[1;32m   1749\u001b[0m                 or _global_forward_hooks or _global_forward_pre_hooks):\n\u001b[0;32m-> 1750\u001b[0;31m             \u001b[0;32mreturn\u001b[0m \u001b[0mforward_call\u001b[0m\u001b[0;34m(\u001b[0m\u001b[0;34m*\u001b[0m\u001b[0margs\u001b[0m\u001b[0;34m,\u001b[0m \u001b[0;34m**\u001b[0m\u001b[0mkwargs\u001b[0m\u001b[0;34m)\u001b[0m\u001b[0;34m\u001b[0m\u001b[0;34m\u001b[0m\u001b[0m\n\u001b[0m\u001b[1;32m   1751\u001b[0m \u001b[0;34m\u001b[0m\u001b[0m\n\u001b[1;32m   1752\u001b[0m         \u001b[0mresult\u001b[0m \u001b[0;34m=\u001b[0m \u001b[0;32mNone\u001b[0m\u001b[0;34m\u001b[0m\u001b[0;34m\u001b[0m\u001b[0m\n",
            "\u001b[0;32m/usr/local/lib/python3.11/dist-packages/torch/nn/modules/module.py\u001b[0m in \u001b[0;36m_forward_unimplemented\u001b[0;34m(self, *input)\u001b[0m\n\u001b[1;32m    395\u001b[0m         \u001b[0mregistered\u001b[0m \u001b[0mhooks\u001b[0m \u001b[0;32mwhile\u001b[0m \u001b[0mthe\u001b[0m \u001b[0mlatter\u001b[0m \u001b[0msilently\u001b[0m \u001b[0mignores\u001b[0m \u001b[0mthem\u001b[0m\u001b[0;34m.\u001b[0m\u001b[0;34m\u001b[0m\u001b[0;34m\u001b[0m\u001b[0m\n\u001b[1;32m    396\u001b[0m     \"\"\"\n\u001b[0;32m--> 397\u001b[0;31m     raise NotImplementedError(\n\u001b[0m\u001b[1;32m    398\u001b[0m         \u001b[0;34mf'Module [{type(self).__name__}] is missing the required \"forward\" function'\u001b[0m\u001b[0;34m\u001b[0m\u001b[0;34m\u001b[0m\u001b[0m\n\u001b[1;32m    399\u001b[0m     )\n",
            "\u001b[0;31mNotImplementedError\u001b[0m: Module [Net] is missing the required \"forward\" function"
          ]
        }
      ]
    },
    {
      "cell_type": "code",
      "source": [
        "%%time\n",
        "import torch\n",
        "import torch.nn as nn\n",
        "import torch.nn.functional as F\n",
        "import torch.optim as optim\n",
        "from torchvision import datasets, transforms\n",
        "from torch.utils.data import DataLoader\n",
        "\n",
        "device = torch.device('cuda:0' if torch.cuda.is_available() else 'cpu')\n",
        "print(device)\n",
        "\n",
        "cifar10_train = datasets.CIFAR10('./data', train=True, download=True, transform=transforms.ToTensor())\n",
        "cifar10_test = datasets.CIFAR10('./data', train=False, download=True, transform=transforms.ToTensor())\n",
        "\n",
        "batch_size = 64\n",
        "train_loader = DataLoader(cifar10_train, batch_size=batch_size, shuffle=True)\n",
        "test_loader = DataLoader(cifar10_test, batch_size=len(cifar10_test), shuffle=False)\n",
        "\n",
        "class Net(nn.Module):\n",
        "    def __init__(self):\n",
        "        super(Net, self).__init__()\n",
        "        self.conv1 = nn.Conv2d(3, 6, 5)\n",
        "        self.pool = nn.MaxPool2d(2, 2)\n",
        "        self.conv2 = nn.Conv2d(6, 16, 5)\n",
        "        self.fc1 = nn.Linear(16 * 5 * 5, 256)\n",
        "        self.fc2 = nn.Linear(256, 10)\n",
        "\n",
        "    def forward(self, x):\n",
        "        x = self.pool(F.relu(self.conv1(x)))\n",
        "        x = self.pool(F.relu(self.conv2(x)))\n",
        "        x = torch.flatten(x, 1) # Changed x.view(-1, 16*5*5) to torch.flatten(x, 1)\n",
        "        x = F.relu(self.fc1(x))\n",
        "        x = self.fc2(x)\n",
        "        return x\n",
        "\n",
        "net = Net().to(device)\n",
        "loss_func = nn.CrossEntropyLoss()\n",
        "optimizer = optim.Adam(net.parameters())\n",
        "\n",
        "recode_loss_train = []\n",
        "recode_loss_test = []\n",
        "\n",
        "x_test, y_test = next(iter(test_loader))\n",
        "x_test, y_test = x_test.to(device), y_test.to(device)\n",
        "\n",
        "for i in range(10):\n",
        "    net.train()\n",
        "    loss_train = 0.0\n",
        "    for j, (x_train, y_train) in enumerate(train_loader):\n",
        "        x_train, y_train = x_train.to(device), y_train.to(device)\n",
        "        y = net(x_train)\n",
        "        loss = loss_func(y, y_train)\n",
        "        loss_train += loss.item()\n",
        "        optimizer.zero_grad()\n",
        "        loss.backward()\n",
        "        optimizer.step()\n",
        "    loss_train /= (j + 1)\n",
        "    recode_loss_train.append(loss_train) # Removed division by len(train_loader)\n",
        "\n",
        "    net.eval()\n",
        "    with torch.no_grad():\n",
        "        y_test_pred = net(x_test)\n",
        "        loss_test = loss_func(y_test_pred, y_test)\n",
        "        recode_loss_test.append(loss_test.item())\n",
        "\n",
        "print(\"Training Loss per Epoch:\", recode_loss_train)\n",
        "print(\"Testing Loss per Epoch:\", recode_loss_test)"
      ],
      "metadata": {
        "colab": {
          "base_uri": "https://localhost:8080/"
        },
        "id": "6ThcGBtD3K0o",
        "outputId": "51749697-06eb-47e8-80b1-c3a16b432dc9"
      },
      "execution_count": 8,
      "outputs": [
        {
          "output_type": "stream",
          "name": "stdout",
          "text": [
            "cpu\n",
            "Training Loss per Epoch: [1.6938921091196788, 1.4002274757303546, 1.286441054871625, 1.2080239559073582, 1.143057161813502, 1.086383809518936, 1.0429828218029589, 1.003511762756216, 0.9618216924502722, 0.9349242437373647]\n",
            "Testing Loss per Epoch: [1.4795087575912476, 1.3997431993484497, 1.3090299367904663, 1.2325682640075684, 1.1544958353042603, 1.1148139238357544, 1.1190298795700073, 1.079177975654602, 1.0981314182281494, 1.099089503288269]\n",
            "CPU times: user 4min 4s, sys: 7.62 s, total: 4min 12s\n",
            "Wall time: 4min 15s\n"
          ]
        }
      ]
    },
    {
      "cell_type": "markdown",
      "source": [],
      "metadata": {
        "id": "3srdUx_99Fdg"
      }
    },
    {
      "cell_type": "code",
      "source": [],
      "metadata": {
        "id": "JSMmz_B24gIW"
      },
      "execution_count": null,
      "outputs": []
    }
  ]
}