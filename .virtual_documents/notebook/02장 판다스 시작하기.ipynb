











import pandas


df = pandas.read_csv('../data/gapminder.tsv', sep='\t')


print(df)


import pandas as pd
df = pd.read_csv('../data/gapminder.tsv', sep='\t')





print(type(df))


print(df.shape)


print(df.columns)


print(df.dtypes)


print(df.info())





print(df.head())








country_df = df['country']


print(country_df.head())


print(country_df.tail())





subset = df[['country', 'continent', 'year']]


print(subset)





country_df = df['country']
print(type(country_df))


print(country_df)


country_df_list = df[['country']]
print(type(country_df_list))


print(country_df_list)








print(df)


print(df.loc[0])


print(df.loc[99])


# print(df.loc[-1])  # 오류


# shape 속성을 사용하여 행의 개수 구하기
number_of_rows = df.shape[0]

# 행의 개수에서 1을 뺀 값으로 마지막 행의 인덱스 구하기
last_row_index = number_of_rows - 1

# 마지막 행의 인덱스로 데이터 추출하기
print(df.loc[last_row_index])


print(df.tail(n=1))


print(df.loc[[0, 99, 999]])





print(df.iloc[1])


print(df.iloc[99])


print(df.iloc[-1])


print(df.iloc[[0, 99, 999]])








subset = df.loc[:, ['year', 'pop']]
print(subset)


subset = df.iloc[:, [2, 4, -1]]
print(subset)


# subset = df.loc[:, [2, 4, -1]]  # 오류
# print(subset)


# subset = df.iloc[:, ['year', 'pop']]  # 오류
# print(subset)





small_range = list(range(5))
print(small_range)


subset = df.iloc[:, small_range]
print(subset)


small_range = list(range(3, 6))
print(small_range)


subset = df.iloc[:, small_range]
print(subset)


small_range = list(range(0, 6, 2))
subset = df.iloc[:, small_range]
print(subset)





print(df.columns)


small_range = list(range(3))
subset = df.iloc[:, small_range]
print(subset)


subset = df.iloc[:, :3]
print(subset)


small_range = list(range(3, 6))
subset = df.iloc[:, small_range]
print(subset)


subset = df.iloc[:, 3:6]
print(subset)


small_range = list(range(0, 6, 2))
subset = df.iloc[:, small_range]
print(subset)


subset = df.iloc[:, 0:6:2]
print(subset)





print(df.loc[42, 'country'])


print(df.iloc[42, 0])





print(df.iloc[[0, 99, 999], [0, 3, 5]])


print(df.loc[[0, 99, 999], ['country', 'lifeExp', 'gdpPercap']])





print(df)


print(df.groupby('year')['lifeExp'].mean())


grouped_year_df = df.groupby('year')
print(type(grouped_year_df))


print(grouped_year_df)


grouped_year_df_lifeExp = grouped_year_df['lifeExp']
print(type(grouped_year_df_lifeExp))


print(grouped_year_df_lifeExp)


mean_lifeExp_by_year = grouped_year_df_lifeExp.mean()
print(mean_lifeExp_by_year)





multi_group_var = df.groupby(['year', 'continent'])[['lifeExp', 'gdpPercap']].mean()


print(multi_group_var)


flat = multi_group_var.reset_index()
print(flat)








print(df.groupby('continent')['country'].nunique())


print(df.groupby('continent')['country'].value_counts())








global_yearly_life_expectancy = df.groupby('year')['lifeExp'].mean()
print(global_yearly_life_expectancy)


global_yearly_life_expectancy.plot()



